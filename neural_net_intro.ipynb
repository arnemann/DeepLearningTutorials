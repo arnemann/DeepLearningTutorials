{
 "cells": [
  {
   "cell_type": "code",
   "execution_count": 1,
   "metadata": {
    "collapsed": false
   },
   "outputs": [
    {
     "data": {
      "text/plain": [
       "'This code creates a simple feedforward neural net and trains on the mnist dataset'"
      ]
     },
     "execution_count": 1,
     "metadata": {},
     "output_type": "execute_result"
    }
   ],
   "source": [
    "\"\"\"This code creates a simple feedforward neural net and trains on the mnist dataset\"\"\""
   ]
  },
  {
   "cell_type": "code",
   "execution_count": 2,
   "metadata": {
    "collapsed": false
   },
   "outputs": [],
   "source": [
    "import numpy as np\n",
    "import pandas as pd\n",
    "import random\n",
    "import matplotlib.pyplot as plt\n",
    "%matplotlib inline"
   ]
  },
  {
   "cell_type": "code",
   "execution_count": 3,
   "metadata": {
    "collapsed": true
   },
   "outputs": [],
   "source": [
    "def array_to_onehot(array,max):\n",
    "    \"\"\"expects an array with values between 0 and max, and outputs an array of onehot encoding vectors\"\"\"\n",
    "    onehot = np.zeros((len(array),max))\n",
    "    onehot[np.arange(len(array)), array] = 1\n",
    "    return onehot\n",
    "\n",
    "class neural_net:\n",
    "    \"\"\"a simple feedforward NN\"\"\"\n",
    "    def __init__(self):\n",
    "        self.__nHiddenLayers__ = 0\n",
    "        self.__has_input_layer__ = False\n",
    "        self.__has_output_layer__ = False\n",
    "    def add_input_layer(self,size):\n",
    "        \"\"\"size is the number of nodes in the input layer\"\"\"\n",
    "        if self.__has_input_layer__ == True:\n",
    "            raise AttributeError('neural net already has an input layer defined')\n",
    "        else: \n",
    "            self.__has_input_layer__ = True\n",
    "    def add_output_layer(self,size):\n",
    "        \"\"\"size is the number of nodes in the output layer\"\"\"\n",
    "        if self.__has_output_layer__ == True:\n",
    "            raise AttributeError('neural net already has an output layer defined')\n",
    "        else: \n",
    "            self.__has_output_layer__ = True"
   ]
  },
  {
   "cell_type": "code",
   "execution_count": 4,
   "metadata": {
    "collapsed": false
   },
   "outputs": [],
   "source": [
    "\"\"\"loading the mnist dataset\"\"\"\n",
    "data = pd.read_csv(\"train.csv\")"
   ]
  },
  {
   "cell_type": "code",
   "execution_count": 5,
   "metadata": {
    "collapsed": true
   },
   "outputs": [],
   "source": [
    "data_array = np.array(data)\n",
    "\n",
    "n_total_data = len(data_array)\n",
    "#rand_order = np.arange(n_total_data)\n",
    "#random.shuffle(rand_order)\n",
    "np.random.shuffle(data_array)\n",
    "\n",
    "perc_train = 0.7\n",
    "train_data = data_array[:int(n_total_data*perc_train)]\n",
    "test_data = data_array[int(n_total_data*perc_train):]"
   ]
  },
  {
   "cell_type": "code",
   "execution_count": 6,
   "metadata": {
    "collapsed": false
   },
   "outputs": [
    {
     "name": "stderr",
     "output_type": "stream",
     "text": [
      "/Users/James/anaconda/lib/python2.7/site-packages/numpy/lib/shape_base.py:430: FutureWarning: in the future np.array_split will retain the shape of arrays with a zero size, instead of replacing them by `array([])`, which always has a shape of (0,).\n",
      "  FutureWarning)\n"
     ]
    }
   ],
   "source": [
    "\"\"\"formatting the data into usable format and split into training and testing\"\"\"\n",
    "data_array = np.array(data)\n",
    "\n",
    "n_total_data = len(data_array)\n",
    "perc_train = 0.7\n",
    "\n",
    "train_data, test_data, _ = np.split(data_array,[int(n_total_data*perc_train),n_total_data],axis = 0)\n",
    "\n",
    "\"\"\"creates three arrays y_train_onehot with onehot encoding vectors, y_train with \n",
    "the corresponding number, and x_train with corresponding 28x28 images flattened\"\"\"\n",
    "y_train, x_train, _ = np.split(train_data,[1,len(train_data[0])],axis = 1)\n",
    "y_train = y_train.reshape(len(y_train))\n",
    "y_train_onehot = array_to_onehot(y_train,10)\n",
    "\n",
    "\"\"\"creates three arrays y_test_onehot with onehot encoding vectors, y_test with \n",
    "the corresponding number, and x_test with corresponding 28x28 images flattened\"\"\"\n",
    "y_test, x_test, _ = np.split(test_data,[1,len(test_data[0])],axis = 1)\n",
    "y_test = y_test.reshape(len(y_test))\n",
    "y_test_onehot = array_to_onehot(y_test,10)"
   ]
  },
  {
   "cell_type": "code",
   "execution_count": 7,
   "metadata": {
    "collapsed": false
   },
   "outputs": [
    {
     "name": "stdout",
     "output_type": "stream",
     "text": [
      "4\n",
      "[ 0.  0.  0.  0.  1.  0.  0.  0.  0.  0.]\n"
     ]
    },
    {
     "data": {
      "image/png": "[encoded data removed]",
      "text/plain": [
       "<matplotlib.figure.Figure at 0x105f7c050>"
      ]
     },
     "metadata": {},
     "output_type": "display_data"
    }
   ],
   "source": [
    "\"\"\"example of the data for one sample point\"\"\"\n",
    "sample = 66\n",
    "\n",
    "print(y_train[sample])\n",
    "print(y_train_onehot[sample])\n",
    "plt.imshow(x_train[sample].reshape(28,28),cmap='gray')\n",
    "plt.axis('off')\n",
    "plt.show()"
   ]
  },
  {
   "cell_type": "code",
   "execution_count": 8,
   "metadata": {
    "collapsed": false
   },
   "outputs": [],
   "source": [
    "n_hidden_nodes=50\n",
    "n_output_nodes=10\n",
    "\n",
    "W=np.random.rand(len(x_train[0]),n_hidden_nodes)-0.5\n",
    "V=np.random.rand(n_output_nodes,n_hidden_nodes)-0.5"
   ]
  },
  {
   "cell_type": "code",
   "execution_count": null,
   "metadata": {
    "collapsed": true
   },
   "outputs": [],
   "source": []
  }
 ],
 "metadata": {
  "kernelspec": {
   "display_name": "Python 2",
   "language": "python",
   "name": "python2"
  },
  "language_info": {
   "codemirror_mode": {
    "name": "ipython",
    "version": 2
   },
   "file_extension": ".py",
   "mimetype": "text/x-python",
   "name": "python",
   "nbconvert_exporter": "python",
   "pygments_lexer": "ipython2",
   "version": "2.7.13"
  }
 },
 "nbformat": 4,
 "nbformat_minor": 0
}
